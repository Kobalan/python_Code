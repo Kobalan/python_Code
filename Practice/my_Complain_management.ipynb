{
 "cells": [
  {
   "cell_type": "code",
   "execution_count": 26,
   "metadata": {},
   "outputs": [
    {
     "name": "stdout",
     "output_type": "stream",
     "text": [
      "\n",
      "Complaint Management\n",
      "1.New Complaint\n",
      "2.Update Complaint\n",
      "3.View Complaint\n",
      "4.Delete Complaint\n",
      "5.Exit\n",
      "Complaint created Successfully\n",
      "\n",
      "Complaint Management\n",
      "1.New Complaint\n",
      "2.Update Complaint\n",
      "3.View Complaint\n",
      "4.Delete Complaint\n",
      "5.Exit\n",
      "Complaints\n",
      "ID: 1, User: Kobi, Number:Abc , Area: Vkm,Status: Pending, Timestamp: 2024-02-02 11:57:52.739441\n",
      "1\n",
      "\n",
      "Complaint Management\n",
      "1.New Complaint\n",
      "2.Update Complaint\n",
      "3.View Complaint\n",
      "4.Delete Complaint\n",
      "5.Exit\n"
     ]
    },
    {
     "ename": "TypeError",
     "evalue": "unhashable type: 'dict'",
     "output_type": "error",
     "traceback": [
      "\u001b[1;31m---------------------------------------------------------------------------\u001b[0m",
      "\u001b[1;31mTypeError\u001b[0m                                 Traceback (most recent call last)",
      "Cell \u001b[1;32mIn[26], line 59\u001b[0m\n\u001b[0;32m     57\u001b[0m     \u001b[38;5;28mid\u001b[39m\u001b[38;5;241m=\u001b[39m\u001b[38;5;28minput\u001b[39m(\u001b[38;5;124m\"\u001b[39m\u001b[38;5;124mEnter ID\u001b[39m\u001b[38;5;124m\"\u001b[39m)\n\u001b[0;32m     58\u001b[0m     status\u001b[38;5;241m=\u001b[39m\u001b[38;5;28minput\u001b[39m(\u001b[38;5;124m\"\u001b[39m\u001b[38;5;124mEnter status to updated:\u001b[39m\u001b[38;5;124m\"\u001b[39m)\n\u001b[1;32m---> 59\u001b[0m     \u001b[43mcms\u001b[49m\u001b[38;5;241;43m.\u001b[39;49m\u001b[43mupdate_Complaint\u001b[49m\u001b[43m(\u001b[49m\u001b[38;5;28;43mid\u001b[39;49m\u001b[43m,\u001b[49m\u001b[43mstatus\u001b[49m\u001b[43m)\u001b[49m \n\u001b[0;32m     60\u001b[0m \u001b[38;5;28;01melif\u001b[39;00m choice\u001b[38;5;241m==\u001b[39m\u001b[38;5;124m\"\u001b[39m\u001b[38;5;124m3\u001b[39m\u001b[38;5;124m\"\u001b[39m:\n\u001b[0;32m     61\u001b[0m     cms\u001b[38;5;241m.\u001b[39mview_Complaints()\n",
      "Cell \u001b[1;32mIn[26], line 16\u001b[0m, in \u001b[0;36mComplaintManagementSystem.update_Complaint\u001b[1;34m(self, id, new_status)\u001b[0m\n\u001b[0;32m     15\u001b[0m \u001b[38;5;28;01mdef\u001b[39;00m  \u001b[38;5;21mupdate_Complaint\u001b[39m(\u001b[38;5;28mself\u001b[39m,\u001b[38;5;28mid\u001b[39m,new_status):\n\u001b[1;32m---> 16\u001b[0m     \u001b[38;5;28;01mif\u001b[39;00m \u001b[38;5;28;43mself\u001b[39;49m\u001b[38;5;241;43m.\u001b[39;49m\u001b[43mcomplaint\u001b[49m\u001b[43m[\u001b[49m\u001b[38;5;28;43mid\u001b[39;49m\u001b[43m]\u001b[49m\u001b[43m \u001b[49m\u001b[38;5;129;43;01min\u001b[39;49;00m\u001b[43m \u001b[49m\u001b[38;5;28;43mself\u001b[39;49m\u001b[38;5;241;43m.\u001b[39;49m\u001b[43mcomplaint\u001b[49m:\n\u001b[0;32m     17\u001b[0m         \u001b[38;5;28mself\u001b[39m\u001b[38;5;241m.\u001b[39mcomplaints[\u001b[38;5;28mid\u001b[39m][\u001b[38;5;124m\"\u001b[39m\u001b[38;5;124mstatus\u001b[39m\u001b[38;5;124m\"\u001b[39m] \u001b[38;5;241m=\u001b[39m new_status\n\u001b[0;32m     18\u001b[0m         \u001b[38;5;28mprint\u001b[39m(\u001b[38;5;124m\"\u001b[39m\u001b[38;5;124mComplaint updated Successfully\u001b[39m\u001b[38;5;124m\"\u001b[39m)\n",
      "\u001b[1;31mTypeError\u001b[0m: unhashable type: 'dict'"
     ]
    }
   ],
   "source": [
    "import datetime\n",
    "class ComplaintManagementSystem:\n",
    "    def __init__(self):\n",
    "        self.complaint={}\n",
    "\n",
    "    def  new_Complaint(self,id,name,no,area):\n",
    "        timestamp = datetime.datetime.now()\n",
    "        self.complaint[id]={  \"name\":name,\n",
    "                              \"no\":no,\n",
    "                              \"area\":area,\n",
    "                              \"status\":\"Pending\",\n",
    "                              \"time\":timestamp }\n",
    "        print(\"Complaint created Successfully\")      \n",
    "\n",
    "    def  update_Complaint(self,id,status):\n",
    "        if self.complaint[id] in self.complaint:\n",
    "            self.complaints[id][\"status\"] = status\n",
    "            print(\"Complaint updated Successfully\")\n",
    "        else:\n",
    "            print(\"Complaint id not found\")\n",
    "\n",
    "    def view_Complaints(self):\n",
    "        if len(self.complaint)==0:\n",
    "            print(\"No Complaints to display\")\n",
    "        else:\n",
    "            print(\"Complaints\")\n",
    "            for complaint_id, complaint in self.complaint.items():\n",
    "                print(f\"ID: {complaint_id}, User: {complaint['name']}, Number:{complaint['no']} , Area: {complaint['area']},Status: {complaint['status']}, Timestamp: {complaint['time']}\"\n",
    "            )\n",
    "            print(len(self.complaint))    \n",
    "            \n",
    "    def delete_Complaints(self,id):\n",
    "        if len(self.complaint)==0:\n",
    "            print(\"No complaints to delete\")\n",
    "        else:\n",
    "            del self.complaint['id']\n",
    "            print(\"Complaint deleted successfully\")    \n",
    "\n",
    "cms=ComplaintManagementSystem()\n",
    "while True:\n",
    "    print(\"\\nComplaint Management\") \n",
    "    print(\"1.New Complaint\")\n",
    "    print(\"2.Update Complaint\")\n",
    "    print(\"3.View Complaint\")\n",
    "    print(\"4.Delete Complaint\")\n",
    "    print(\"5.Exit\")\n",
    "\n",
    "    choice=input(\"Enter the Choice[1-5]:\")\n",
    "\n",
    "    if choice==\"1\":\n",
    "        id=input(\"Enter Id:\")\n",
    "        name=input(\"Enter Name:\")\n",
    "        no=input(\"Enter your Number:\")\n",
    "        area=input(\"Enter your Area:\")\n",
    "        cms.new_Complaint(id,name,no,area)\n",
    "    elif choice==\"2\":\n",
    "        id=input(\"Enter ID\")\n",
    "        status=input(\"Enter status to updated:\")\n",
    "        cms.update_Complaint(id,status) \n",
    "    elif choice==\"3\":\n",
    "        cms.view_Complaints()\n",
    "    elif choice==\"4\":\n",
    "        id=input(\"Enter Id:\")\n",
    "        cms.delete_Complaints(id)\n",
    "    elif choice==\"5\":\n",
    "        print(\"Exiting the Console, Thank You!!\")\n",
    "        break\n",
    "    else:\n",
    "        print(\"Invalid Choice\")\n"
   ]
  },
  {
   "cell_type": "code",
   "execution_count": null,
   "metadata": {},
   "outputs": [],
   "source": [
    "import datetime\n",
    "def  new_Complaint(id,name,no):\n",
    "        self_complaint={}\n",
    "        timestamp = datetime.datetime.now()\n",
    "        self_complaint['id']={\"id\":id,\n",
    "                              \"name\":name,\n",
    "                              \"no\":no,\n",
    "                              \"status\":\"Pending\",\n",
    "                              \"time\":timestamp \n",
    "                              }\n",
    "        print(\"Complaint created Successfully\")    \n",
    "new_Complaint(1,\"AAA\",\"222\")  "
   ]
  },
  {
   "cell_type": "code",
   "execution_count": null,
   "metadata": {},
   "outputs": [],
   "source": [
    "dic={\"1\":\"AAA\"\n",
    "     \"2\"}"
   ]
  }
 ],
 "metadata": {
  "kernelspec": {
   "display_name": "Python 3",
   "language": "python",
   "name": "python3"
  },
  "language_info": {
   "codemirror_mode": {
    "name": "ipython",
    "version": 3
   },
   "file_extension": ".py",
   "mimetype": "text/x-python",
   "name": "python",
   "nbconvert_exporter": "python",
   "pygments_lexer": "ipython3",
   "version": "3.12.0"
  }
 },
 "nbformat": 4,
 "nbformat_minor": 2
}
